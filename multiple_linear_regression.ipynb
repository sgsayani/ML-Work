{
 "cells": [
  {
   "cell_type": "code",
   "execution_count": 1,
   "metadata": {},
   "outputs": [],
   "source": [
    "import numpy as np\n",
    "import pandas as pd\n",
    "import matplotlib.pyplot as mtp\n"
   ]
  },
  {
   "cell_type": "code",
   "execution_count": 2,
   "metadata": {},
   "outputs": [
    {
     "name": "stdout",
     "output_type": "stream",
     "text": [
      "    Unnamed: 0  R&D Spend  Administration  Marketing Spend       State  \\\n",
      "0            0  165349.20       136897.80        471784.10    New York   \n",
      "1            1  162597.70       151377.59        443898.53  California   \n",
      "2            2  153441.51       101145.55        407934.54     Florida   \n",
      "3            3  144372.41       118671.85        383199.62    New York   \n",
      "4            4  142107.34        91391.77        366168.42     Florida   \n",
      "5            5  131876.90        99814.71        362861.36    New York   \n",
      "6            6  134615.46       147198.87        127716.82  California   \n",
      "7            7  130298.13       145530.06        323876.68     Florida   \n",
      "8            8  120542.52       148718.95        311613.29    New York   \n",
      "9            9  123334.88       108679.17        304981.62  California   \n",
      "10          10  101913.08       110594.11        229160.95     Florida   \n",
      "11          11  100671.96        91790.61        249744.55  California   \n",
      "12          12   93863.75       127320.38        249839.44     Florida   \n",
      "13          13   91992.39       135495.07        252664.93  California   \n",
      "14          14  119943.24       156547.42        256512.92     Florida   \n",
      "15          15  114523.61       122616.84        261776.23    New York   \n",
      "16          16   78013.11       121597.55        264346.06  California   \n",
      "17          17   94657.16       145077.58        282574.31    New York   \n",
      "18          18   91749.16       114175.79        294919.57     Florida   \n",
      "19          19   86419.70       153514.11             0.00    New York   \n",
      "20          20   76253.86       113867.30        298664.47  California   \n",
      "21          21   78389.47       153773.43        299737.29    New York   \n",
      "22          22   73994.56       122782.75        303319.26     Florida   \n",
      "23          23   67532.53       105751.03        304768.73     Florida   \n",
      "24          24   77044.01        99281.34        140574.81    New York   \n",
      "25          25   64664.71       139553.16        137962.62  California   \n",
      "26          26   75328.87       144135.98        134050.07     Florida   \n",
      "27          27   72107.60       127864.55        353183.81    New York   \n",
      "28          28   66051.52       182645.56        118148.20     Florida   \n",
      "29          29   65605.48       153032.06        107138.38    New York   \n",
      "30          30   61994.48       115641.28         91131.24     Florida   \n",
      "31          31   61136.38       152701.92         88218.23    New York   \n",
      "32          32   63408.86       129219.61         46085.25  California   \n",
      "33          33   55493.95       103057.49        214634.81     Florida   \n",
      "34          34   46426.07       157693.92        210797.67  California   \n",
      "35          35   46014.02        85047.44        205517.64    New York   \n",
      "36          36   28663.76       127056.21        201126.82     Florida   \n",
      "37          37   44069.95        51283.14        197029.42  California   \n",
      "38          38   20229.59        65947.93        185265.10    New York   \n",
      "39          39   38558.51        82982.09        174999.30  California   \n",
      "40          40   28754.33       118546.05        172795.67  California   \n",
      "41          41   27892.92        84710.77        164470.71     Florida   \n",
      "42          42   23640.93        96189.63        148001.11  California   \n",
      "43          43   15505.73       127382.30         35534.17    New York   \n",
      "44          44   22177.74       154806.14         28334.72  California   \n",
      "45          45    1000.23       124153.04          1903.93    New York   \n",
      "46          46    1315.46       115816.21        297114.46     Florida   \n",
      "47          47       0.00       135426.92             0.00  California   \n",
      "48          48     542.05        51743.15             0.00    New York   \n",
      "49          49       0.00       116983.80         45173.06  California   \n",
      "\n",
      "       Profit  \n",
      "0   192261.83  \n",
      "1   191792.06  \n",
      "2   191050.39  \n",
      "3   182901.99  \n",
      "4   166187.94  \n",
      "5   156991.12  \n",
      "6   156122.51  \n",
      "7   155752.60  \n",
      "8   152211.77  \n",
      "9   149759.96  \n",
      "10  146121.95  \n",
      "11  144259.40  \n",
      "12  141585.52  \n",
      "13  134307.35  \n",
      "14  132602.65  \n",
      "15  129917.04  \n",
      "16  126992.93  \n",
      "17  125370.37  \n",
      "18  124266.90  \n",
      "19  122776.86  \n",
      "20  118474.03  \n",
      "21  111313.02  \n",
      "22  110352.25  \n",
      "23  108733.99  \n",
      "24  108552.04  \n",
      "25  107404.34  \n",
      "26  105733.54  \n",
      "27  105008.31  \n",
      "28  103282.38  \n",
      "29  101004.64  \n",
      "30   99937.59  \n",
      "31   97483.56  \n",
      "32   97427.84  \n",
      "33   96778.92  \n",
      "34   96712.80  \n",
      "35   96479.51  \n",
      "36   90708.19  \n",
      "37   89949.14  \n",
      "38   81229.06  \n",
      "39   81005.76  \n",
      "40   78239.91  \n",
      "41   77798.83  \n",
      "42   71498.49  \n",
      "43   69758.98  \n",
      "44   65200.33  \n",
      "45   64926.08  \n",
      "46   49490.75  \n",
      "47   42559.73  \n",
      "48   35673.41  \n",
      "49   14681.40  \n"
     ]
    }
   ],
   "source": [
    "data_set = pd.read_csv('data50.csv')\n",
    "print(data_set)"
   ]
  },
  {
   "cell_type": "markdown",
   "metadata": {},
   "source": [
    "EXTRACTING\n"
   ]
  },
  {
   "cell_type": "code",
   "execution_count": 3,
   "metadata": {},
   "outputs": [],
   "source": [
    "x=data_set.iloc[:,:-1].values\n",
    "y=data_set.iloc[:,4].values"
   ]
  },
  {
   "cell_type": "code",
   "execution_count": 4,
   "metadata": {},
   "outputs": [
    {
     "name": "stdout",
     "output_type": "stream",
     "text": [
      "[[0 165349.2 136897.8 471784.1 'New York']\n",
      " [1 162597.7 151377.59 443898.53 'California']\n",
      " [2 153441.51 101145.55 407934.54 'Florida']\n",
      " [3 144372.41 118671.85 383199.62 'New York']\n",
      " [4 142107.34 91391.77 366168.42 'Florida']\n",
      " [5 131876.9 99814.71 362861.36 'New York']\n",
      " [6 134615.46 147198.87 127716.82 'California']\n",
      " [7 130298.13 145530.06 323876.68 'Florida']\n",
      " [8 120542.52 148718.95 311613.29 'New York']\n",
      " [9 123334.88 108679.17 304981.62 'California']\n",
      " [10 101913.08 110594.11 229160.95 'Florida']\n",
      " [11 100671.96 91790.61 249744.55 'California']\n",
      " [12 93863.75 127320.38 249839.44 'Florida']\n",
      " [13 91992.39 135495.07 252664.93 'California']\n",
      " [14 119943.24 156547.42 256512.92 'Florida']\n",
      " [15 114523.61 122616.84 261776.23 'New York']\n",
      " [16 78013.11 121597.55 264346.06 'California']\n",
      " [17 94657.16 145077.58 282574.31 'New York']\n",
      " [18 91749.16 114175.79 294919.57 'Florida']\n",
      " [19 86419.7 153514.11 0.0 'New York']\n",
      " [20 76253.86 113867.3 298664.47 'California']\n",
      " [21 78389.47 153773.43 299737.29 'New York']\n",
      " [22 73994.56 122782.75 303319.26 'Florida']\n",
      " [23 67532.53 105751.03 304768.73 'Florida']\n",
      " [24 77044.01 99281.34 140574.81 'New York']\n",
      " [25 64664.71 139553.16 137962.62 'California']\n",
      " [26 75328.87 144135.98 134050.07 'Florida']\n",
      " [27 72107.6 127864.55 353183.81 'New York']\n",
      " [28 66051.52 182645.56 118148.2 'Florida']\n",
      " [29 65605.48 153032.06 107138.38 'New York']\n",
      " [30 61994.48 115641.28 91131.24 'Florida']\n",
      " [31 61136.38 152701.92 88218.23 'New York']\n",
      " [32 63408.86 129219.61 46085.25 'California']\n",
      " [33 55493.95 103057.49 214634.81 'Florida']\n",
      " [34 46426.07 157693.92 210797.67 'California']\n",
      " [35 46014.02 85047.44 205517.64 'New York']\n",
      " [36 28663.76 127056.21 201126.82 'Florida']\n",
      " [37 44069.95 51283.14 197029.42 'California']\n",
      " [38 20229.59 65947.93 185265.1 'New York']\n",
      " [39 38558.51 82982.09 174999.3 'California']\n",
      " [40 28754.33 118546.05 172795.67 'California']\n",
      " [41 27892.92 84710.77 164470.71 'Florida']\n",
      " [42 23640.93 96189.63 148001.11 'California']\n",
      " [43 15505.73 127382.3 35534.17 'New York']\n",
      " [44 22177.74 154806.14 28334.72 'California']\n",
      " [45 1000.23 124153.04 1903.93 'New York']\n",
      " [46 1315.46 115816.21 297114.46 'Florida']\n",
      " [47 0.0 135426.92 0.0 'California']\n",
      " [48 542.05 51743.15 0.0 'New York']\n",
      " [49 0.0 116983.8 45173.06 'California']]\n"
     ]
    }
   ],
   "source": [
    "print(x)"
   ]
  },
  {
   "cell_type": "code",
   "execution_count": 5,
   "metadata": {},
   "outputs": [
    {
     "name": "stdout",
     "output_type": "stream",
     "text": [
      "['New York' 'California' 'Florida' 'New York' 'Florida' 'New York'\n",
      " 'California' 'Florida' 'New York' 'California' 'Florida' 'California'\n",
      " 'Florida' 'California' 'Florida' 'New York' 'California' 'New York'\n",
      " 'Florida' 'New York' 'California' 'New York' 'Florida' 'Florida'\n",
      " 'New York' 'California' 'Florida' 'New York' 'Florida' 'New York'\n",
      " 'Florida' 'New York' 'California' 'Florida' 'California' 'New York'\n",
      " 'Florida' 'California' 'New York' 'California' 'California' 'Florida'\n",
      " 'California' 'New York' 'California' 'New York' 'Florida' 'California'\n",
      " 'New York' 'California']\n"
     ]
    }
   ],
   "source": [
    "print(y)"
   ]
  },
  {
   "cell_type": "code",
   "execution_count": null,
   "metadata": {},
   "outputs": [],
   "source": [
    "from sklearn.preprocessing import LabelEncoder,OneHotEncoder\n",
    "LabelEncoder_x=LabelEncoder()\n",
    "x[:,3]=LabelEncoder_x.fit_transform(x[:,3])\n",
    "OneHotEncoder=OneHotEncoder(catagorial_features=[3])\n",
    "x=OneHotEncoder.fit_transform(x).toarray()\n"
   ]
  },
  {
   "cell_type": "code",
   "execution_count": 7,
   "metadata": {},
   "outputs": [],
   "source": [
    "from sklearn.preprocessing import OneHotEncoder\n",
    "ohe=OneHotEncoder(sparse=False)\n",
    "x=ohe.fit_transform(data_set[['State']])"
   ]
  },
  {
   "cell_type": "code",
   "execution_count": 9,
   "metadata": {},
   "outputs": [
    {
     "data": {
      "text/plain": [
       "array([[0., 0., 1.],\n",
       "       [1., 0., 0.],\n",
       "       [0., 1., 0.],\n",
       "       [0., 0., 1.],\n",
       "       [0., 1., 0.],\n",
       "       [0., 0., 1.],\n",
       "       [1., 0., 0.],\n",
       "       [0., 1., 0.],\n",
       "       [0., 0., 1.],\n",
       "       [1., 0., 0.],\n",
       "       [0., 1., 0.],\n",
       "       [1., 0., 0.],\n",
       "       [0., 1., 0.],\n",
       "       [1., 0., 0.],\n",
       "       [0., 1., 0.],\n",
       "       [0., 0., 1.],\n",
       "       [1., 0., 0.],\n",
       "       [0., 0., 1.],\n",
       "       [0., 1., 0.],\n",
       "       [0., 0., 1.],\n",
       "       [1., 0., 0.],\n",
       "       [0., 0., 1.],\n",
       "       [0., 1., 0.],\n",
       "       [0., 1., 0.],\n",
       "       [0., 0., 1.],\n",
       "       [1., 0., 0.],\n",
       "       [0., 1., 0.],\n",
       "       [0., 0., 1.],\n",
       "       [0., 1., 0.],\n",
       "       [0., 0., 1.],\n",
       "       [0., 1., 0.],\n",
       "       [0., 0., 1.],\n",
       "       [1., 0., 0.],\n",
       "       [0., 1., 0.],\n",
       "       [1., 0., 0.],\n",
       "       [0., 0., 1.],\n",
       "       [0., 1., 0.],\n",
       "       [1., 0., 0.],\n",
       "       [0., 0., 1.],\n",
       "       [1., 0., 0.],\n",
       "       [1., 0., 0.],\n",
       "       [0., 1., 0.],\n",
       "       [1., 0., 0.],\n",
       "       [0., 0., 1.],\n",
       "       [1., 0., 0.],\n",
       "       [0., 0., 1.],\n",
       "       [0., 1., 0.],\n",
       "       [1., 0., 0.],\n",
       "       [0., 0., 1.],\n",
       "       [1., 0., 0.]])"
      ]
     },
     "execution_count": 9,
     "metadata": {},
     "output_type": "execute_result"
    }
   ],
   "source": [
    "x"
   ]
  },
  {
   "cell_type": "code",
   "execution_count": null,
   "metadata": {},
   "outputs": [],
   "source": []
  }
 ],
 "metadata": {
  "kernelspec": {
   "display_name": "Python 3.10.4 64-bit",
   "language": "python",
   "name": "python3"
  },
  "language_info": {
   "codemirror_mode": {
    "name": "ipython",
    "version": 3
   },
   "file_extension": ".py",
   "mimetype": "text/x-python",
   "name": "python",
   "nbconvert_exporter": "python",
   "pygments_lexer": "ipython3",
   "version": "3.10.4"
  },
  "orig_nbformat": 4,
  "vscode": {
   "interpreter": {
    "hash": "916dbcbb3f70747c44a77c7bcd40155683ae19c65e1c03b4aa3499c5328201f1"
   }
  }
 },
 "nbformat": 4,
 "nbformat_minor": 2
}
